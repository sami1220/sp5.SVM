{
  "nbformat": 4,
  "nbformat_minor": 0,
  "metadata": {
    "colab": {
      "name": "sp5.SVM.ipynb",
      "provenance": [],
      "collapsed_sections": [
        "QGmZZJQURIGj"
      ]
    },
    "kernelspec": {
      "name": "python3",
      "display_name": "Python 3"
    },
    "language_info": {
      "name": "python"
    }
  },
  "cells": [
    {
      "cell_type": "code",
      "metadata": {
        "id": "1h28nRjCudsO"
      },
      "source": [
        "import numpy as np\n",
        "import matplotlib.pyplot as plt\n",
        "import matplotlib.patches as mpatches\n",
        "\n",
        "from matplotlib.colors import ListedColormap\n",
        "from sklearn.preprocessing import StandardScaler\n",
        "from sklearn.model_selection import train_test_split\n",
        "from sklearn.pipeline import make_pipeline\n",
        "from sklearn.svm import SVC\n",
        "from numpy.random import *"
      ],
      "execution_count": 4,
      "outputs": []
    },
    {
      "cell_type": "code",
      "metadata": {
        "id": "UCvS5_1HyDlA"
      },
      "source": [
        "# def _kernel_function(x):\n",
        "\n",
        "#   # 線形カーネル\n",
        "#   for _ in range(self.iter):\n",
        "#     kernel_answer = x[-2].T @ x[-1]\n",
        "#   return kernel_answer\n",
        "\n",
        "# x = np.arange(20).reshape(10, 2)\n",
        "\n",
        "# # print(x.T)\n",
        "# # print(x)\n",
        "# print(_kernel_function(x)) #685\n",
        "# kernel_func = _kernel_function(x)"
      ],
      "execution_count": 5,
      "outputs": []
    },
    {
      "cell_type": "code",
      "metadata": {
        "id": "K0F_TE3n6WHB"
      },
      "source": [
        "# def _Lagrange_gradient_descent(x):\n",
        "#   # 標準正規分布の乱数（平均0、分散１）をlamdaに格納\n",
        "#   lamda = np.random.randn(x.shape[1]+1)\n",
        "#   # lamda_listの最初の要素にlamdaを入れる\n",
        "#   # lamda_list[0] =lamda\n",
        "#   # 更新ごとにlamda >= 0である必要がある＝ifで条件分岐？\n",
        "#   calc_1 = 1 - sum(lamda * y[-2] * y[-1] * kernel_func)\n",
        "  \n",
        "#   lamda[:-1] = lamda[:-1] + lr * calc_1\n",
        "#     # self.lamda[-1] = self.lamda[-1] - (self.lr * np.sum((error/x.shape[0]))) 線形からコピペしただけ。必要か要確認\n",
        "#     #self.lamda = self.lamda - self.lr * calc_1\n",
        "\n",
        "#   return calc_1\n",
        "# print(_Lagrange_gradient_descent(x))\n"
      ],
      "execution_count": 6,
      "outputs": []
    },
    {
      "cell_type": "code",
      "metadata": {
        "colab": {
          "base_uri": "https://localhost:8080/"
        },
        "id": "gatv3NykIQcu",
        "outputId": "78a83b6a-f995-4238-dffb-15c917f47b53"
      },
      "source": [
        "# シンプルデータセット1作成コード\n",
        "np.random.seed(seed=0)\n",
        "n_samples = 500\n",
        "f0 = [-1, 2]\n",
        "f1 = [2, -1]\n",
        "cov = [[1.0,0.8], [0.8, 1.0]]\n",
        "f0 = np.random.multivariate_normal(f0, cov, n_samples // 2)\n",
        "f1 = np.random.multivariate_normal(f1, cov, n_samples // 2)\n",
        "# 完成\n",
        "x = np.concatenate([f0, f1])\n",
        "y = np.concatenate([\n",
        "    np.full(n_samples // 2, 1),\n",
        "    np.full(n_samples // 2, -1)\n",
        "])\n",
        "# targetは１か−１\n",
        "# print(x.shape)\n",
        "# print(y.shape)\n",
        "x_train, x_test, y_train, y_test = train_test_split(x, y, train_size=0.8)\n",
        "print(x_train.shape)\n",
        "# print(x_test.shape)\n",
        "\n",
        "print(y_train.shape)\n",
        "# print(y_test.shape)\n",
        "\n",
        "# print(x_train, x_test, y_train, y_test)\n",
        "# lamda = np.random.randn(x_train.shape[0])\n",
        "# print(x_train)\n",
        "# print(y_train)\n",
        "# print(lamda)\n",
        "print(x_train[5].T @ x_train[5])\n",
        "# print(y_train[1, :])"
      ],
      "execution_count": 7,
      "outputs": [
        {
          "output_type": "stream",
          "text": [
            "(400, 2)\n",
            "(400,)\n",
            "5.887093966628042\n"
          ],
          "name": "stdout"
        }
      ]
    },
    {
      "cell_type": "markdown",
      "metadata": {
        "id": "ZCMhLJdTPuPo"
      },
      "source": [
        "$$ f(x) = \\sum_{n=1}^{N}\\lambda_{n} y_{sv_n} k(x, s_n)\n",
        "$$"
      ]
    },
    {
      "cell_type": "markdown",
      "metadata": {
        "id": "qnYOJvUMYdcN"
      },
      "source": [
        "問題1　ラグランジュの未定乗数法による最急降下\n",
        "\n",
        "問題２　サポートベクターの決定\n",
        "\n",
        "問題３　推定\n",
        "\n",
        "問題４　学習と推定\n",
        "\n",
        "問題５　決定領域の可視化\n"
      ]
    },
    {
      "cell_type": "code",
      "metadata": {
        "id": "xVPGBEHeuubH",
        "colab": {
          "base_uri": "https://localhost:8080/"
        },
        "outputId": "7e69951e-6333-425b-d1cb-97adea95d03a"
      },
      "source": [
        "class ScratchSVMClassifier():\n",
        "    \"\"\"\n",
        "    SVM分類器のスクラッチ実装\n",
        "    Parameters\n",
        "    ----------\n",
        "    num_iter : int\n",
        "      イテレーション数\n",
        "    lr : float\n",
        "      学習率\n",
        "    kernel : str\n",
        "      カーネルの種類。線形カーネル（linear）か多項式カーネル（polly）\n",
        "    threshold : float\n",
        "      サポートベクターを選ぶための閾値\n",
        "    verbose : bool\n",
        "      学習過程を出力する場合はTrue\n",
        "    Attributes\n",
        "    ----------\n",
        "    self.n_support_vectors : int\n",
        "      サポートベクターの数\n",
        "    self.index_support_vectors : 次の形のndarray, shape (n_support_vectors,)\n",
        "      サポートベクターのインデックス\n",
        "    self.x_sv :  次の形のndarray, shape(n_support_vectors, n_features)\n",
        "      サポートベクターの特徴量\n",
        "    self.lam_sv :  次の形のndarray, shape(n_support_vectors, 1)\n",
        "      サポートベクターの未定乗数\n",
        "    self.y_sv :  次の形のndarray, shape(n_support_vectors, 1)\n",
        "      サポートベクターのラベル\n",
        "    \"\"\"\n",
        "    def __init__(self, num_iter, lr, kernel='linear', threshold=1e-5, verbose=False):\n",
        "        # ハイパーパラメータを属性として記録\n",
        "        # self.n_support_vectors\n",
        "        #   # サポートベクターの数 int\n",
        "        # self.index_support_vectors\n",
        "        #   # サポートベクターのインデックス  : 次の形のndarray, shape (n_support_vectors,)\n",
        "        # self.x_sv \n",
        "        #   # サポートベクターの特徴量 :  次の形のndarray, shape(n_support_vectors, n_features)\n",
        "        # self.lam_sv_list\n",
        "        #   # サポートベクターの未定乗数 :  次の形のndarray, shape(n_support_vectors, 1)\n",
        "        # self.y_sv\n",
        "        #   # サポートベクターのラベル :  次の形のndarray, shape(n_support_vectors, 1)\n",
        "        self.iter = num_iter\n",
        "        self.lr = lr\n",
        "        self.kernel = kernel\n",
        "        self.threshold = threshold\n",
        "        self.verbose = verbose\n",
        "        np.random.seed(1)\n",
        "\n",
        "    def fit(self, x, y, x_test=None, y_test=None):\n",
        "        \"\"\"\n",
        "        SVM分類器を学習する。検証データが入力された場合はそれに対する精度もイテレーションごとに計算する。\n",
        "        Parameters\n",
        "        ----------\n",
        "        x : 次の形のndarray, shape (n_samples, n_features)\n",
        "            訓練データの特徴量\n",
        "        y : 次の形のndarray, shape (n_samples, )\n",
        "            訓練データの正解値\n",
        "        x_test : 次の形のndarray, shape (n_samples, n_features)\n",
        "            検証データの特徴量\n",
        "        y_test : 次の形のndarray, shape (n_samples, )\n",
        "            検証データの正解値\n",
        "        \"\"\"\n",
        "        seed(0)\n",
        "        # self.lam_sv_list = np.zeros(self.iter, x.shape[1])\n",
        "        # ここにサポートベクターを格納する\n",
        "        # self.sv_array = np.zeros(self.iter)\n",
        "        self.lam_sv = np.random.randn(self.iter)\n",
        "        self.kernel_func = self._kernel_function(x)\n",
        "        self.new_lamda = self._lagrange_gradient_descent(x, y)\n",
        "        self.w = np.ones(x.shape[0])\n",
        "\n",
        "        # カーネル関数\n",
        "        # 線形カーネル\n",
        "        # 学習回数の分繰り返す\n",
        "        kernel_answer = np.array([])\n",
        "        for i in range(self.iter):\n",
        "          # x.T @ x[i+1]\n",
        "          kernel_a = x[i].T @ x[i-1]\n",
        "          kernel_answer = np.append(kernel_answer, kernel_a)\n",
        "\n",
        "        # if self.verbose:\n",
        "        #     #verboseをTrueにした際は学習過程を出力\n",
        "        #     print()\n",
        "\n",
        "    # 問題１ ラグランジュの未定乗数法による最急降下\n",
        "    def _lagrange_gradient_descent(self, x, y):\n",
        "\n",
        "        # 更新ごとにself.lam_sv >= 0である必要がある＝ifで条件分岐？\n",
        "        sigma = np.zeros(self.iter)\n",
        "        for i in range(self.iter):\n",
        "          for j in range(self.iter):\n",
        "            sigma[j] += self.lam_sv[j] * (y[j-1] * y[j]) * (x[j-1].T @ x[j])\n",
        "\n",
        "          # print(f'sigma{sigma}')\n",
        "        self.lam_sv = self.lam_sv[-1] + self.lr * (1 - sigma)\n",
        "        # 1 / 2 * (x.T @ x) -\n",
        "\n",
        "        # 問題2 サポートベクターの決定\n",
        "        # if文で、設定した閾値より大きな数字のself.lam_sv[n]をndarrayに追加していくコードを書く\n",
        "        # サポートベクターを取り出す事ができてない?\n",
        "        self.sv_array = self.lam_sv[self.lam_sv >= self.threshold]\n",
        "\n",
        "        # return self.lam_sv\n",
        "    def support_vectors(self):\n",
        "      self.sv_array = np.array([self.sv_array])\n",
        "      return self.sv_array\n",
        "\n",
        "    # 問題３　推定\n",
        "    # ここにカーネル関数(def)を組み込む\n",
        "    def predict(self, x):\n",
        "\n",
        "\n",
        "        result = np.where(self.lam_sv > 0, 1, -1)\n",
        "\n",
        "        return result\n",
        "\n",
        "    # 問題1　カーネル関数\n",
        "    def _kernel_function(self, x):\n",
        "        # カーネル関数\n",
        "        # 線形カーネル\n",
        "        # 学習回数の分繰り返す\n",
        "        kernel_answer = np.array([])\n",
        "        kernel_a = 0\n",
        "        for i in range(x.shape[0]):\n",
        "          kernel_a = x[i, :].T @ x[i, :]\n",
        "            # kernel_answer = np.append(kernel_answer, kernel_a)\n",
        "\n",
        "        # return kernel_a\n",
        "        \n",
        "MySVM = ScratchSVMClassifier(num_iter=100, lr=0.001, kernel='linear', threshold=1e-5)\n",
        "\n",
        "MySVM.fit(x_train, y_train, x_test, y_test)\n",
        "my_predict = MySVM.predict(x_test)\n",
        "XX = MySVM.support_vectors()\n",
        "# print(MySVM._lagrange_gradient_descent(x_train, y_train))\n",
        "# print(x_train.shape,y_train.shape)\n",
        "print(f'my_predict.shape : \\n{my_predict.shape}')\n",
        "print(f'my_predict : \\n{my_predict}')\n"
      ],
      "execution_count": 83,
      "outputs": [
        {
          "output_type": "stream",
          "text": [
            "my_predict.shape : \n",
            "(100,)\n",
            "my_predict : \n",
            "[ 1  1 -1 -1  1  1  1  1  1  1  1 -1  1  1  1  1 -1  1  1  1  1  1  1  1\n",
            "  1  1  1  1  1 -1  1  1  1  1  1  1 -1 -1  1  1  1  1  1 -1  1  1  1 -1\n",
            "  1  1  1  1  1  1  1  1  1  1  1  1  1  1  1  1  1  1  1  1  1  1 -1  1\n",
            " -1  1  1  1  1  1  1  1  1 -1  1  1  1  1 -1  1  1  1  1 -1  1 -1  1  1\n",
            "  1 -1  1  1]\n"
          ],
          "name": "stdout"
        }
      ]
    },
    {
      "cell_type": "code",
      "metadata": {
        "id": "-Wn_eRXeI5xD",
        "colab": {
          "base_uri": "https://localhost:8080/",
          "height": 481
        },
        "outputId": "35baac23-4d4d-40d9-8842-f156d80dbc86"
      },
      "source": [
        "# \n",
        "# 2. SVM\n",
        "# \n",
        "\n",
        "svm_clf = make_pipeline(StandardScaler(), SVC(gamma='auto'))\n",
        "svm_clf.fit(x_train, y_train)\n",
        "# 推定 predict\n",
        "predict = svm_clf.predict(x_test)\n",
        "\n",
        "# 結果 score\n",
        "train_score = svm_clf.score(x_train, y_train)\n",
        "test_score = svm_clf.score(x_test, y_test)\n",
        "\n",
        "\n",
        "print('SVM')\n",
        "print(predict.shape)\n",
        "print(f'predict : \\n{predict}')   \n",
        "print(f'train_score   : \\n{train_score}')\n",
        "print(f'test_score   : \\n{test_score}')\n",
        "\n",
        "\n",
        "plt.scatter(x[:,0], y)\n",
        "plt.scatter(x[:,1], y)\n",
        "# plt.scatter(x[:,1], y)\n",
        "plt.legend()\n",
        "plt.show()"
      ],
      "execution_count": 34,
      "outputs": [
        {
          "output_type": "stream",
          "text": [
            "No handles with labels found to put in legend.\n"
          ],
          "name": "stderr"
        },
        {
          "output_type": "stream",
          "text": [
            "SVM\n",
            "(100,)\n",
            "predict : \n",
            "[-1  1  1  1  1  1 -1 -1 -1 -1 -1  1  1 -1  1  1  1 -1 -1  1  1  1 -1 -1\n",
            "  1 -1  1 -1  1 -1  1  1  1 -1  1  1  1  1 -1 -1  1 -1 -1  1 -1 -1  1  1\n",
            "  1 -1 -1  1  1  1  1 -1  1  1  1 -1 -1  1  1  1 -1  1 -1 -1 -1 -1 -1  1\n",
            " -1  1  1  1 -1 -1  1  1  1  1  1 -1  1 -1 -1  1  1 -1 -1  1  1 -1  1  1\n",
            "  1 -1  1 -1]\n",
            "train_score   : \n",
            "1.0\n",
            "test_score   : \n",
            "1.0\n"
          ],
          "name": "stdout"
        },
        {
          "output_type": "display_data",
          "data": {
            "image/png": "[encoded data removed]",
            "text/plain": [
              "<Figure size 432x288 with 1 Axes>"
            ]
          },
          "metadata": {
            "tags": [],
            "needs_background": "light"
          }
        }
      ]
    },
    {
      "cell_type": "code",
      "metadata": {
        "id": "EasUXfDE-yMy"
      },
      "source": [
        ""
      ],
      "execution_count": 63,
      "outputs": []
    },
    {
      "cell_type": "markdown",
      "metadata": {
        "id": "QGmZZJQURIGj"
      },
      "source": [
        "## 【問題5】決定領域の可視化\n",
        "\n",
        "決定領域を可視化してください。\n",
        "\n",
        "以下の例のようにサポートベクターは異なる色で示してください。"
      ]
    },
    {
      "cell_type": "code",
      "metadata": {
        "id": "m8dmWANeClM-",
        "colab": {
          "base_uri": "https://localhost:8080/",
          "height": 311
        },
        "outputId": "117bd98b-bccb-42fb-825f-0507ff3133b0"
      },
      "source": [
        "def decision_region(X, y, model, XX, step=0.01, title='decision region', xlabel='xlabel', ylabel='ylabel', target_names=['A', 'B']):\n",
        "    \"\"\"\n",
        "\n",
        "    Parameters\n",
        "    ----------------\n",
        "    X : ndarray, shape(n_samples, 2)\n",
        "        特徴量\n",
        "    y : ndarray, shape(n_samples,)\n",
        "        ラベル\n",
        "    model : object\n",
        "        学習したモデルのインスンタスを入れる\n",
        "    step : float, (default : 0.1)\n",
        "        推定値を計算する間隔を設定する\n",
        "    title : str\n",
        "        グラフのタイトルの文章を与える\n",
        "    xlabel, ylabel : str\n",
        "        軸ラベルの文章を与える\n",
        "    target_names= : list of str\n",
        "        凡例の一覧を与える\n",
        "    \"\"\"\n",
        "    # setting\n",
        "    scatter_color = ['red', 'blue']\n",
        "    contourf_color = ['pink', 'skyblue']\n",
        "    n_class = 2\n",
        "    # pred\n",
        "    mesh_f0, mesh_f1  = np.meshgrid(np.arange(np.min(X[:,0])-0.5, np.max(X[:,0])+0.5, step), np.arange(np.min(X[:,1])-0.5, np.max(X[:,1])+0.5, step))\n",
        "    mesh = np.c_[np.ravel(mesh_f0),np.ravel(mesh_f1)]\n",
        "    y_pred = model.predict(mesh).reshape(mesh_f0.shape)\n",
        "    \n",
        "    # plot\n",
        "    plt.title(title)\n",
        "    plt.xlabel(xlabel)\n",
        "    plt.ylabel(ylabel)\n",
        "    plt.contourf(mesh_f0, mesh_f1, y_pred, n_class-1, cmap=ListedColormap(contourf_color))\n",
        "    plt.contour(mesh_f0, mesh_f1, y_pred, n_class-1, colors='y', linewidths=3, alpha=0.5)\n",
        "    \n",
        "    for i, target in enumerate(np.unique(y)):\n",
        "        plt.scatter(X[y==target][:, 0], X[y==target][:, 1], s=80, color=scatter_color[i], label=target_names[i], marker='o')\n",
        "        # plt.scatter(X[y==target][:, 0], X[y==target][:, 1], marker='o')\n",
        "    patches = [mpatches.Patch(color=scatter_color[i], label=target_names[i]) for i in range(n_class)]\n",
        "    plt.scatter(XX[:, 0], XX[:, 1], color=\"yellow\")\n",
        "    plt.legend(handles=patches)\n",
        "    plt.legend()\n",
        "    plt.show()\n",
        "print(decision_region(x_train, y_train, svm_clf, XX))\n",
        "# print(decision_region(x_train, y_train, MySVM, XX))"
      ],
      "execution_count": 82,
      "outputs": [
        {
          "output_type": "display_data",
          "data": {
            "image/png": "[encoded data removed]",
            "text/plain": [
              "<Figure size 432x288 with 1 Axes>"
            ]
          },
          "metadata": {
            "tags": [],
            "needs_background": "light"
          }
        },
        {
          "output_type": "stream",
          "text": [
            "None\n"
          ],
          "name": "stdout"
        }
      ]
    }
  ]
}